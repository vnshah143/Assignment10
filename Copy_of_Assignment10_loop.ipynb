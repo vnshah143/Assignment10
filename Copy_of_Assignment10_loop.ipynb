{
  "nbformat": 4,
  "nbformat_minor": 0,
  "metadata": {
    "colab": {
      "name": "Copy of Assignment10#loop.ipynb",
      "provenance": [],
      "authorship_tag": "ABX9TyPCVdVLPB/+047u/7s464nf",
      "include_colab_link": true
    },
    "kernelspec": {
      "name": "python3",
      "display_name": "Python 3"
    },
    "language_info": {
      "name": "python"
    }
  },
  "cells": [
    {
      "cell_type": "markdown",
      "metadata": {
        "id": "view-in-github",
        "colab_type": "text"
      },
      "source": [
        "<a href=\"https://colab.research.google.com/github/vnshah143/Assignment10/blob/main/Copy_of_Assignment10_loop.ipynb\" target=\"_parent\"><img src=\"https://colab.research.google.com/assets/colab-badge.svg\" alt=\"Open In Colab\"/></a>"
      ]
    },
    {
      "cell_type": "code",
      "execution_count": null,
      "metadata": {
        "colab": {
          "base_uri": "https://localhost:8080/"
        },
        "id": "-vzKRVz_jFZB",
        "outputId": "5a2f20dd-57c9-4291-9ee8-67a75dff5ecf"
      },
      "outputs": [
        {
          "output_type": "stream",
          "name": "stdout",
          "text": [
            "Enter a password : Vishal@012345678\n",
            "Not valid ! Total characters should be between 6 and 15\n",
            "Enter a password : Vishal#012345\n",
            "Password is Accepted\n"
          ]
        }
      ],
      "source": [
        "#Q1 You need to take a input from the user, input is the password..\n",
        "# You need to check the password or input follows the criteria as defined below:\n",
        "# a) The password should be of the length in between 6 to 15 characters\n",
        "# b) In password we should have atleast 1 capital alphabat (A-Z)\n",
        "# c) we should have atleast 1 lowercase alphabat (a-z)\n",
        "# d) Atleast there should be a single numerical number(0-9)\n",
        "# e) There can be any special character ($, @, #)\n",
        "#If the user gives the password which follows all the criteria print a message giving an output \"Password accepted\"otherwise try to ask the input  maximum three time\n",
        "\n",
        "\n",
        "import re\n",
        "\n",
        "#2\n",
        "while True:\n",
        "  #3\n",
        "  user_input = input(\"Enter a password : \")\n",
        "  is_valid = False\n",
        "\n",
        "  if (len(user_input)<6 or len(user_input)>15):\n",
        "    #4\n",
        "    print(\"Not valid ! Total characters should be between 6 and 15\")\n",
        "    continue\n",
        "  elif not re.search(\"[A-Z]\",user_input):\n",
        "    #5\n",
        "    print(\"Not valid ! It should contain one letter between [A-Z]\")\n",
        "    continue\n",
        "  elif not re.search(\"[a-z]\",user_input):\n",
        "    #6\n",
        "    print(\"Not valid ! It should contain one letter between [a-z]\")\n",
        "    continue\n",
        "  elif not re.search(\"[0-9]\",user_input):\n",
        "    #7\n",
        "    print(\"Not valid ! It should contain one letter between [0-9]\")\n",
        "    continue\n",
        "  elif not re.search(\"[~!@#$%^&*]\",user_input):\n",
        "    #8\n",
        "    print(\"Not valid ! It should contain at least one letter in [~!@#$%^&*]\")\n",
        "    continue\n",
        "  elif re.search(\"[\\s]\",user_input):\n",
        "    #9\n",
        "    print(\"Not valid ! It should not contain any space\")\n",
        "    continue\n",
        "  else:\n",
        "    #10\n",
        "    is_valid = True\n",
        "    break\n",
        "\n",
        "#11\n",
        "if(is_valid):\n",
        "  print(\"Password is Accepted\")"
      ]
    }
  ]
}